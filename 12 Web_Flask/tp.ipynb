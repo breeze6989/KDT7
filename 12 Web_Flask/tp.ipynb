{
 "cells": [
  {
   "cell_type": "code",
   "execution_count": 3,
   "metadata": {},
   "outputs": [],
   "source": [
    "import pandas as pd\n",
    "import matplotlib as mlt\n",
    "from sklearn.metrics.pairwise import cosine_similarity\n",
    "from sklearn.feature_extraction.text import TfidfVectorizer\n",
    "import torch"
   ]
  },
  {
   "cell_type": "code",
   "execution_count": 4,
   "metadata": {},
   "outputs": [
    {
     "name": "stdout",
     "output_type": "stream",
     "text": [
      "임베딩 생성 중...\n",
      "\n",
      "▶ 카테고리 '문학' 기반 추천 공모전 TOP 5:\n",
      "  카테고리: 문학/글/시나리오\n",
      "  제목: 제2회 법정스님과 함께하는 땅끝해남 행복에세이 공모전\n",
      "  주최/주관: 도서출판 북산\n",
      "  참가대상: 제한없음\n",
      "  접수기간: 2025-04-11 ~ 2025-06-10\n",
      "  총상금: 1천만원이하\n",
      "  유사도: 0.5380\n",
      "\n",
      "  카테고리: 기타\n",
      "  제목: 제14회 전주 기록물 수집 공모전\n",
      "  주최/주관: 전주시시\n",
      "  참가대상: 기타\n",
      "  접수기간: 2025-03-04 ~ 2025-05-30\n",
      "  총상금: 다양한 혜택\n",
      "  유사도: 0.5087\n",
      "\n",
      "  카테고리: 문학/글/시나리오\n",
      "  제목: 제 10회 초록우산 감사편지 공모전\n",
      "  주최/주관: 초록우산\n",
      "  참가대상: 청소년, 어린이\n",
      "  접수기간: 2025-03-11 ~ 2025-07-11\n",
      "  총상금: 다양한 혜택\n",
      "  유사도: 0.5065\n",
      "\n",
      "  카테고리: 문학/글/시나리오\n",
      "  제목: 제26회 도산안창호 글짓기 및 독후감 공모전\n",
      "  주최/주관: 도산안창호선생기념사업회\n",
      "  참가대상: 제한없음\n",
      "  접수기간: 2025-04-01 ~ 2025-09-30\n",
      "  총상금: 1천만원이하\n",
      "  유사도: 0.4932\n",
      "\n",
      "  카테고리: 예체능/미술/음악\n",
      "  제목: [갤러리비상] 제3회 전국장애인미술공모전\n",
      "  주최/주관: 고양시장애인종합복지관\n",
      "  참가대상: 기타\n",
      "  접수기간: 2025-03-24 ~ 2025-05-08\n",
      "  총상금: 1천만원이하\n",
      "  유사도: 0.4754\n",
      "\n"
     ]
    }
   ],
   "source": [
    "import pandas as pd\n",
    "from sentence_transformers import SentenceTransformer, util\n",
    "import torch\n",
    "\n",
    "# 1. CSV 로드\n",
    "df = pd.read_csv('info.csv').drop(columns=['Unnamed: 0']).fillna('')\n",
    "\n",
    "# 2. 모델 로드\n",
    "model = SentenceTransformer('sentence-transformers/paraphrase-multilingual-MiniLM-L12-v2')\n",
    "\n",
    "# 3. 텍스트 결합\n",
    "df['full_text'] = (\n",
    "    df['name'] + \" \" +\n",
    "    df['category'] + \" \" +\n",
    "    df['company']  + \" \" +\n",
    "    df['first_prize'] + \" \" +\n",
    "    df['qual']  \n",
    "\n",
    "    \n",
    ")\n",
    "\n",
    "# 4. 임베딩\n",
    "print(\"임베딩 생성 중...\")\n",
    "corpus_embeddings = model.encode(df['full_text'].tolist(), convert_to_tensor=True)\n",
    "\n",
    "# 5. 사용자 입력\n",
    "user_input = input(\"추천받을 카테고리를 입력하세요: \").strip()\n",
    "\n",
    "# 6. 쿼리 임베딩\n",
    "query_embedding = model.encode(user_input, convert_to_tensor=True)\n",
    "\n",
    "# 7. 유사도 계산\n",
    "cos_scores = util.cos_sim(query_embedding, corpus_embeddings)[0]\n",
    "\n",
    "# 8. 상위 5개\n",
    "topk = torch.topk(cos_scores, k=5)\n",
    "\n",
    "\n",
    "top_scores = topk.values.tolist()      # [float, float, ...]\n",
    "top_indices = topk.indices.tolist()    # [int, int, ...]\n",
    "\n",
    "print(f\"\\n▶ 카테고리 '{user_input}' 기반 추천 공모전 TOP 5:\")\n",
    "for score, idx in zip(top_scores, top_indices):\n",
    "    # idx는 이제 int\n",
    "    row = df.iloc[idx]\n",
    "    print(f\"  카테고리: {row['category']}\")\n",
    "    print(f\"  제목: {row['name']}\")\n",
    "    print(f\"  주최/주관: {row['company']}\")\n",
    "    print(f\"  참가대상: {row['qual']}\")\n",
    "    print(f\"  접수기간: {row['register_start']} ~ {row['register_end']}\")\n",
    "    print(f\"  총상금: {row['total_prize']}\")\n",
    "    print(f\"  유사도: {score:.4f}\\n\")\n"
   ]
  },
  {
   "cell_type": "code",
   "execution_count": 2,
   "metadata": {},
   "outputs": [
    {
     "name": "stdout",
     "output_type": "stream",
     "text": [
      "임베딩 텐서를 'corpus_embeddings.pt'로 저장했습니다.\n"
     ]
    },
    {
     "name": "stderr",
     "output_type": "stream",
     "text": [
      "C:\\Users\\KDP-50\\AppData\\Local\\Temp\\ipykernel_18980\\3011130427.py:8: FutureWarning: You are using `torch.load` with `weights_only=False` (the current default value), which uses the default pickle module implicitly. It is possible to construct malicious pickle data which will execute arbitrary code during unpickling (See https://github.com/pytorch/pytorch/blob/main/SECURITY.md#untrusted-models for more details). In a future release, the default value for `weights_only` will be flipped to `True`. This limits the functions that could be executed during unpickling. Arbitrary objects will no longer be allowed to be loaded via this mode unless they are explicitly allowlisted by the user via `torch.serialization.add_safe_globals`. We recommend you start setting `weights_only=True` for any use case where you don't have full control of the loaded file. Please open an issue on GitHub for any issues related to this experimental feature.\n",
      "  loaded_embeddings = torch.load('corpus_embeddings.pt')\n"
     ]
    }
   ],
   "source": [
    "import torch\n",
    "\n",
    "# 1) 임베딩 계산 후 저장\n",
    "torch.save(corpus_embeddings, 'corpus_embeddings.pt')\n",
    "print(\"임베딩 텐서를 'corpus_embeddings.pt'로 저장했습니다.\")\n",
    "\n",
    "# 2) 나중에 불러오기\n",
    "loaded_embeddings = torch.load('corpus_embeddings.pt')\n",
    "# loaded_embeddings.shape 는 (num_documents, embedding_dim)\n"
   ]
  }
 ],
 "metadata": {
  "kernelspec": {
   "display_name": "ML_CV",
   "language": "python",
   "name": "python3"
  },
  "language_info": {
   "codemirror_mode": {
    "name": "ipython",
    "version": 3
   },
   "file_extension": ".py",
   "mimetype": "text/x-python",
   "name": "python",
   "nbconvert_exporter": "python",
   "pygments_lexer": "ipython3",
   "version": "3.9.21"
  }
 },
 "nbformat": 4,
 "nbformat_minor": 2
}
